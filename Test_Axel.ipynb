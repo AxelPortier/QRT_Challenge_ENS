{
 "cells": [
  {
   "cell_type": "code",
   "execution_count": 1,
   "id": "3536ede0",
   "metadata": {},
   "outputs": [],
   "source": [
    "import pandas as pd\n",
    "from sklearn.ensemble import RandomForestClassifier"
   ]
  },
  {
   "cell_type": "code",
   "execution_count": 5,
   "id": "fe83553e",
   "metadata": {},
   "outputs": [
    {
     "name": "stdout",
     "output_type": "stream",
     "text": [
      "Index(['ID', 'RET'], dtype='object')\n"
     ]
    }
   ],
   "source": [
    "X_train = pd.read_csv(\"x_train.csv\")\n",
    "X_test = pd.read_csv(\"x_test.csv\")\n",
    "y_train = pd.read_csv(\"y_train.csv\")\n",
    "train = pd.concat([X_train, y_train], axis=1)\n",
    "print(y_train.columns)"
   ]
  },
  {
   "cell_type": "code",
   "execution_count": 3,
   "id": "0b45dd0a",
   "metadata": {},
   "outputs": [
    {
     "name": "stdout",
     "output_type": "stream",
     "text": [
      "                  ID           DATE          STOCK       INDUSTRY  \\\n",
      "count  418595.000000  418595.000000  418595.000000  418595.000000   \n",
      "mean   209297.000000     108.659002    3373.567833      37.176020   \n",
      "std    120838.112303      61.891642    1533.157749      19.706505   \n",
      "min         0.000000       0.000000       0.000000       0.000000   \n",
      "25%    104648.500000      56.000000    2478.000000      22.000000   \n",
      "50%    209297.000000     104.000000    3560.000000      43.000000   \n",
      "75%    313945.500000     161.000000    4606.000000      53.000000   \n",
      "max    418594.000000     223.000000    5716.000000      74.000000   \n",
      "\n",
      "       INDUSTRY_GROUP         SECTOR   SUB_INDUSTRY          RET_1  \\\n",
      "count   418595.000000  418595.000000  418595.000000  416236.000000   \n",
      "mean        12.697959       5.483845      90.391663       0.001383   \n",
      "std          7.231701       2.410113      47.491157       0.031311   \n",
      "min          0.000000       0.000000       0.000000      -0.845324   \n",
      "25%          6.000000       4.000000      49.000000      -0.010970   \n",
      "50%         15.000000       6.000000     104.000000       0.000637   \n",
      "75%         19.000000       7.000000     128.000000       0.012950   \n",
      "max         26.000000      11.000000     182.000000       1.444990   \n",
      "\n",
      "            VOLUME_1          RET_2  ...         RET_16      VOLUME_16  \\\n",
      "count  353570.000000  416130.000000  ...  413315.000000  351333.000000   \n",
      "mean       -0.071502       0.000973  ...       0.001074      -0.076018   \n",
      "std         3.038658       0.030987  ...       0.029538       2.185741   \n",
      "min        -2.434414      -0.770751  ...      -0.765478      -5.600056   \n",
      "25%        -0.555394      -0.011312  ...      -0.010527      -0.533574   \n",
      "50%        -0.282609       0.000401  ...       0.000530      -0.272271   \n",
      "75%         0.047759       0.012326  ...       0.012084       0.029131   \n",
      "max      1232.174009       1.427746  ...       1.028902     355.613431   \n",
      "\n",
      "              RET_17      VOLUME_17         RET_18      VOLUME_18  \\\n",
      "count  413294.000000  356281.000000  413288.000000  351009.000000   \n",
      "mean        0.001642      -0.087854       0.001131      -0.076147   \n",
      "std         0.031914       2.094459       0.031435       2.423121   \n",
      "min        -0.825014      -4.610393      -0.876157      -4.167784   \n",
      "25%        -0.011331      -0.552613      -0.010949      -0.539491   \n",
      "50%         0.000433      -0.285480       0.000000      -0.281753   \n",
      "75%         0.012862       0.027272       0.012180       0.027639   \n",
      "max         1.707736     408.771698       6.000004     788.461460   \n",
      "\n",
      "              RET_19      VOLUME_19         RET_20      VOLUME_20  \n",
      "count  413282.000000  351266.000000  413254.000000  350738.000000  \n",
      "mean       -0.000798      -0.076496      -0.000027      -0.076337  \n",
      "std         0.030738       2.229668       0.033347       2.721355  \n",
      "min        -0.880000      -2.341887      -0.785714      -2.768928  \n",
      "25%        -0.012139      -0.527846      -0.011682      -0.542790  \n",
      "50%         0.000000      -0.277674       0.000000      -0.283405  \n",
      "75%         0.011236       0.030201       0.011712       0.035795  \n",
      "max         2.954430     631.249564       7.208859     932.939205  \n",
      "\n",
      "[8 rows x 47 columns]\n"
     ]
    }
   ],
   "source": [
    "print(X_train.describe())"
   ]
  },
  {
   "cell_type": "code",
   "execution_count": 20,
   "id": "d7b212fa",
   "metadata": {},
   "outputs": [
    {
     "name": "stdout",
     "output_type": "stream",
     "text": [
      "   ID  DATE  STOCK  INDUSTRY  INDUSTRY_GROUP  SECTOR  SUB_INDUSTRY     RET_1  \\\n",
      "0   0     0      2        18               5       3            44 -0.015748   \n",
      "1   1     0      3        43              15       6           104  0.003984   \n",
      "2   2     0      4        57              20       8           142  0.000440   \n",
      "3   3     0      8         1               1       1             2  0.031298   \n",
      "4   4     0     14        36              12       5            92  0.027273   \n",
      "\n",
      "   VOLUME_1     RET_2  ...    RET_16  VOLUME_16    RET_17  VOLUME_17  \\\n",
      "0  0.147931 -0.015504  ...  0.059459   0.630899  0.003254  -0.379412   \n",
      "1       NaN -0.090580  ...  0.015413        NaN  0.003774        NaN   \n",
      "2 -0.096282 -0.058896  ...  0.008964  -0.010336 -0.017612  -0.354333   \n",
      "3 -0.429540  0.007756  ... -0.031769   0.012105  0.033824  -0.290178   \n",
      "4 -0.847155 -0.039302  ... -0.038461  -0.277083 -0.012659   0.139086   \n",
      "\n",
      "     RET_18  VOLUME_18    RET_19  VOLUME_19    RET_20  VOLUME_20  \n",
      "0  0.008752  -0.110597 -0.012959   0.174521 -0.002155  -0.000937  \n",
      "1 -0.018518        NaN -0.028777        NaN -0.034722        NaN  \n",
      "2 -0.006562  -0.519391 -0.012101  -0.356157 -0.006867  -0.308868  \n",
      "3 -0.001468  -0.663834 -0.013520  -0.562126 -0.036745  -0.631458  \n",
      "4  0.004237  -0.017547  0.004256   0.579510 -0.040817   0.802806  \n",
      "\n",
      "[5 rows x 47 columns]\n",
      "   ID    RET\n",
      "0   0   True\n",
      "1   1   True\n",
      "2   2  False\n",
      "3   3  False\n",
      "4   4  False\n"
     ]
    }
   ],
   "source": [
    "print(X_train.head())\n",
    "print(y_train.head())"
   ]
  },
  {
   "cell_type": "code",
   "execution_count": 19,
   "id": "a0e3b1bb",
   "metadata": {},
   "outputs": [
    {
     "name": "stdout",
     "output_type": "stream",
     "text": [
      "            ID  DATE  STOCK  INDUSTRY  INDUSTRY_GROUP  SECTOR  SUB_INDUSTRY  \\\n",
      "0            0     0      2        18               5       3            44   \n",
      "10866    10866     6      2        18               5       3            44   \n",
      "13258    13258     7      2        18               5       3            44   \n",
      "18512    18512    10      2        18               5       3            44   \n",
      "23767    23767    14      2        18               5       3            44   \n",
      "...        ...   ...    ...       ...             ...     ...           ...   \n",
      "403131  403131   213      2        18               5       3            44   \n",
      "405821  405821   214      2        18               5       3            44   \n",
      "408288  408288   218      2        18               5       3            44   \n",
      "410734  410734   220      2        18               5       3            44   \n",
      "416229  416229   223      2        18               5       3            44   \n",
      "\n",
      "           RET_1  VOLUME_1     RET_2  ...    RET_16  VOLUME_16    RET_17  \\\n",
      "0      -0.015748  0.147931 -0.015504  ...  0.059459   0.630899  0.003254   \n",
      "10866  -0.018671 -0.476481 -0.017800  ... -0.030512  -0.214854 -0.007996   \n",
      "13258   0.038788 -0.440418 -0.029412  ...  0.053536   0.373114 -0.015905   \n",
      "18512  -0.032185 -0.759950 -0.010615  ...  0.033695  -0.642899  0.036095   \n",
      "23767   0.052122  1.595637  0.009792  ... -0.002451  -0.482029 -0.025089   \n",
      "...          ...       ...       ...  ...       ...        ...       ...   \n",
      "403131 -0.008117 -0.477231  0.013158  ...  0.011824  -0.563457 -0.029508   \n",
      "405821  0.067364 -0.292416 -0.036913  ... -0.004926  -0.714884 -0.013606   \n",
      "408288 -0.019608 -0.732923  0.020000  ...  0.000956  -0.471448 -0.075088   \n",
      "410734  0.053748       NaN -0.090090  ...  0.016968  -0.163434  0.012600   \n",
      "416229  0.018519 -0.763895 -0.054290  ... -0.037182   0.387648 -0.019193   \n",
      "\n",
      "        VOLUME_17    RET_18  VOLUME_18    RET_19  VOLUME_19    RET_20  \\\n",
      "0       -0.379412  0.008752  -0.110597 -0.012959   0.174521 -0.002155   \n",
      "10866   -0.800805  0.028186   0.282039  0.001765  -0.241421 -0.039548   \n",
      "13258    1.050353 -0.003960   0.392692  0.016608  -0.641502  0.003536   \n",
      "18512   -0.404878 -0.003538  -0.020514 -0.009924  -0.663006  0.044512   \n",
      "23767    0.095147 -0.004757   0.854689  0.026862  -0.095321  0.013614   \n",
      "...           ...       ...        ...       ...        ...       ...   \n",
      "403131  -0.669150 -0.008130  -0.797775  0.004902  -0.108561 -0.004878   \n",
      "405821  -0.656345 -0.007714  -0.710607  0.011707  -0.146494  0.009852   \n",
      "408288   0.896407 -0.004398  -0.689843 -0.001756  -0.574680 -0.010426   \n",
      "410734  -0.565580  0.005760  -0.368268  0.001154  -0.013060 -0.001153   \n",
      "416229  -0.282503  0.048289  -0.532505 -0.120354   1.161733  0.107843   \n",
      "\n",
      "        VOLUME_20  \n",
      "0       -0.000937  \n",
      "10866    4.528612  \n",
      "13258   -0.492423  \n",
      "18512    0.781617  \n",
      "23767   -0.764025  \n",
      "...           ...  \n",
      "403131  -0.833417  \n",
      "405821  -0.121551  \n",
      "408288  -0.653693  \n",
      "410734  -0.528029  \n",
      "416229   0.984287  \n",
      "\n",
      "[77 rows x 47 columns]\n"
     ]
    }
   ],
   "source": [
    "print(X_train[(X_train[\"STOCK\"]==2)].sort_values(by=\"DATE\"))"
   ]
  },
  {
   "cell_type": "markdown",
   "id": "4f6ac437",
   "metadata": {},
   "source": [
    "Data Preprocessing"
   ]
  },
  {
   "cell_type": "code",
   "execution_count": null,
   "id": "58faa9c3",
   "metadata": {},
   "outputs": [
    {
     "name": "stdout",
     "output_type": "stream",
     "text": [
      "Index(['ID', 'DATE', 'STOCK', 'INDUSTRY', 'INDUSTRY_GROUP', 'SECTOR',\n",
      "       'SUB_INDUSTRY', 'RET_1', 'VOLUME_1', 'RET_2', 'VOLUME_2', 'RET_3',\n",
      "       'VOLUME_3', 'RET_4', 'VOLUME_4', 'RET_5', 'VOLUME_5', 'RET_6',\n",
      "       'VOLUME_6', 'RET_7', 'VOLUME_7', 'RET_8', 'VOLUME_8', 'RET_9',\n",
      "       'VOLUME_9', 'RET_10', 'VOLUME_10', 'RET_11', 'VOLUME_11', 'RET_12',\n",
      "       'VOLUME_12', 'RET_13', 'VOLUME_13', 'RET_14', 'VOLUME_14', 'RET_15',\n",
      "       'VOLUME_15', 'RET_16', 'VOLUME_16', 'RET_17', 'VOLUME_17', 'RET_18',\n",
      "       'VOLUME_18', 'RET_19', 'VOLUME_19', 'RET_20', 'VOLUME_20'],\n",
      "      dtype='object')\n"
     ]
    }
   ],
   "source": [
    "print(X_train.columns)\n",
    "n_shifts = 5  # If you don't want all the shifts to reduce noise\n",
    "features = ['RET_%d' % (i + 1) for i in range(n_shifts)]\n",
    "features += ['VOLUME_%d' % (i + 1) for i in range(n_shifts)]\n",
    "features += new_features  # The conditional features\n",
    "train[features].head()"
   ]
  },
  {
   "cell_type": "markdown",
   "id": "94b519e1",
   "metadata": {},
   "source": [
    "Baseline Model"
   ]
  },
  {
   "cell_type": "code",
   "execution_count": null,
   "id": "798992ad",
   "metadata": {},
   "outputs": [],
   "source": [
    "X_train = train[features]\n",
    "y_train = train[\"RET\"]\n",
    "\n",
    "# A quiet large number of trees with low depth to prevent overfits\n",
    "rf_params = {\n",
    "    'n_estimators': 500,\n",
    "    'max_depth': 2**3,\n",
    "    'random_state': 0,\n",
    "    'n_jobs': -1\n",
    "}\n",
    "\n",
    "train_dates = train['DATE'].unique()\n",
    "test_dates = x_test['DATE'].unique()\n",
    "\n",
    "n_splits = 4\n",
    "scores = []\n",
    "models = []\n",
    "\n",
    "splits = KFold(n_splits=n_splits, random_state=0,\n",
    "               shuffle=True).split(train_dates)\n",
    "\n",
    "for i, (local_train_dates_ids, local_test_dates_ids) in enumerate(splits):\n",
    "    local_train_dates = train_dates[local_train_dates_ids]\n",
    "    local_test_dates = train_dates[local_test_dates_ids]\n",
    "\n",
    "    local_train_ids = train['DATE'].isin(local_train_dates)\n",
    "    local_test_ids = train['DATE'].isin(local_test_dates)\n",
    "\n",
    "    X_local_train = X_train.loc[local_train_ids]\n",
    "    y_local_train = y_train.loc[local_train_ids]\n",
    "    X_local_test = X_train.loc[local_test_ids]\n",
    "    y_local_test = y_train.loc[local_test_ids]\n",
    "\n",
    "    X_local_train = X_local_train.fillna(0)\n",
    "    X_local_test = X_local_test.fillna(0)\n",
    "\n",
    "    model = RandomForestClassifier(**rf_params)\n",
    "    model.fit(X_local_train, y_local_train)\n",
    "\n",
    "    y_local_pred = model.predict_proba(X_local_test)[:, 1] #proba de prédire 1 True\n",
    "    \n",
    "    sub = train.loc[local_test_ids].copy() # on garde les lignes du train qu'on va agrémenter de leur proba de predire 1\n",
    "    sub['pred'] = y_local_pred # on agrémente celle colonne de préditiction\n",
    "    y_local_pred = sub.groupby('DATE')['pred'].transform(lambda x: x > x.median()).values \n",
    "\n",
    "    models.append(model)\n",
    "    score = accuracy_score(y_local_test, y_local_pred)\n",
    "    scores.append(score)\n",
    "    print(f\"Fold {i+1} - Accuracy: {score* 100:.2f}%\")\n",
    "\n",
    "mean = np.mean(scores)*100\n",
    "std = np.std(scores)*100\n",
    "u = (mean + std)\n",
    "l = (mean - std)\n",
    "print(f'Accuracy: {mean:.2f}% [{l:.2f} ; {u:.2f}] (+- {std:.2f})')"
   ]
  },
  {
   "cell_type": "code",
   "execution_count": null,
   "id": "ecf079f0",
   "metadata": {},
   "outputs": [],
   "source": [
    "model = RandomForestClassifier()\n",
    "model.fit(X_train.fillna(0), y_train)\n",
    "y_pred = model.predict_proba(X_test.fillna(0))[:, 1]\n",
    "\n",
    "sub = X_test.copy()\n",
    "sub['pred'] = y_pred\n",
    "y_pred = sub.groupby('DATE')['pred'].transform(\n",
    "    lambda x: x > x.median()).values\n",
    "\n",
    "submission = pd.Series(y_pred)\n",
    "submission.index = X_test.index\n",
    "submission.name = \"RET\"\n",
    "\n",
    "submission.to_csv('./benchmark_qrt.csv', index=True, header=True)"
   ]
  }
 ],
 "metadata": {
  "kernelspec": {
   "display_name": "base",
   "language": "python",
   "name": "python3"
  },
  "language_info": {
   "codemirror_mode": {
    "name": "ipython",
    "version": 3
   },
   "file_extension": ".py",
   "mimetype": "text/x-python",
   "name": "python",
   "nbconvert_exporter": "python",
   "pygments_lexer": "ipython3",
   "version": "3.12.7"
  }
 },
 "nbformat": 4,
 "nbformat_minor": 5
}
